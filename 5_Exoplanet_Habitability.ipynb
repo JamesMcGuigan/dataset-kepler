{
 "cells": [
  {
   "cell_type": "markdown",
   "metadata": {},
   "source": [
    "# Exoplanet Habitability\n",
    "\n",
    "According to [Wikipedia](https://en.wikipedia.org/wiki/Kepler_space_telescope), the key goals of the Kepler Space Telescope are:\n",
    "\n",
    "- To determine how many Earth-size and larger planets there are in or near the habitable zone (often called \"Goldilocks planets\") of a wide variety of spectral types of stars.\n",
    "- To determine the range of size and shape of the orbits of these planets.\n",
    "- To estimate how many planets there are in multiple-star systems.\n",
    "- To determine the range of orbit size, brightness, size, mass and density of short-period giant planets.\n",
    "- To identify additional members of each discovered planetary system using other techniques.\n",
    "- Determine the properties of those stars that harbor planetary systems."
   ]
  },
  {
   "cell_type": "code",
   "execution_count": null,
   "metadata": {},
   "outputs": [],
   "source": [
    "# Python imports and settings\n",
    "import numpy  as np\n",
    "import pandas as pd\n",
    "import seaborn as sns\n",
    "import matplotlib.pyplot as plt\n",
    "import sklearn\n",
    "import sklearn.cluster\n",
    "import re\n",
    "from pydash import py_ as _\n",
    "\n",
    "from src.dataset_koi import koi, koi_columns, koi_column_types\n",
    "from src.utilities import onehot_encode_comments\n",
    "\n",
    "# https://stackoverflow.com/questions/11707586/how-do-i-expand-the-output-display-to-see-more-columns-of-a-pandas-dataframe\n",
    "pd.set_option('display.max_columns', None)  \n",
    "pd.set_option('display.expand_frame_repr', False)\n",
    "pd.set_option('max_colwidth', -1)\n",
    "pd.set_option('display.max_rows', 8)  # 8 is required for .describe()\n",
    "pd.set_option('mode.chained_assignment', None)\n",
    "\n",
    "%load_ext autoreload\n",
    "%autoreload 2"
   ]
  },
  {
   "cell_type": "code",
   "execution_count": null,
   "metadata": {},
   "outputs": [],
   "source": [
    "dataset = (\n",
    "    pd.concat([\n",
    "        koi['archive'],\n",
    "        koi['KIC'][['ra','dec']],\n",
    "        koi['transit'],       \n",
    "        koi['stellar'],\n",
    "    ], axis=1)\n",
    "    .sort_values(by='kepler_name')\n",
    "    .query('koi_disposition == \"CONFIRMED\"')            \n",
    ")\n",
    "dataset"
   ]
  },
  {
   "cell_type": "markdown",
   "metadata": {},
   "source": [
    "## Calculating Mass and Density\n",
    "\n",
    "Unfortunatly it is not possible to calcuate the mass, and by extension density, of an exoplanet using the KOI table alone.\n",
    "\n",
    "Normally, planetary mass is caculated using the doppler-shift [Radial Velocity](https://www.planetary.org/explore/space-topics/exoplanets/radial-velocity.html) \n",
    "method. This method works by observing the gravitational wobble of the star as it orbits around the barycenter of the combined exoplanet-star system. \n",
    "\n",
    "Once mass has been computed, then density can be simply calcuated as the mass divided by the volume of a sphere. Density = Mass / (4/3 π r^3)\n",
    "\n",
    "Using the Kepler Transit Method alone, it is technically possible to measure the mass of exoplanets, but only if multiple exoplanets orbit the same star. \n",
    "There exists a small gravitational tug between planets, causing a tiny measurable variation in the transit timings of each orbit, \n",
    "due to the relative position of the planets. A paper was published on the discovery of \n",
    "[The mass of the Mars-sized exoplanet Kepler-138 b from transit timing](https://www.nature.com/articles/nature14494) as 0.066 (+-0.059) Earth Masses. "
   ]
  },
  {
   "cell_type": "markdown",
   "metadata": {},
   "source": [
    "## Goldilocks Exoplanets\n",
    "\n",
    "The first criteria for a earth-like habitable planet is liquid water, which would require a `koi_teq` Equilibrium Temperature (Kelvin) within the range 273.2K - 373.2K\n",
    "\n",
    "We start with 2303 total CONFIRMED exoplanets, 110 have a temperature that is \"just right\""
   ]
  },
  {
   "cell_type": "code",
   "execution_count": null,
   "metadata": {},
   "outputs": [],
   "source": [
    "dataset['goldilocks_temp'] = ((273.2 <= dataset['koi_teq']) & (dataset['koi_teq'] <= 373.2))\n",
    "goldilocks_counts = {}\n",
    "goldilocks_counts['temp'] = {\n",
    "    \"too cold\":   dataset.query('koi_teq         <= 273.2').shape[0],\n",
    "    \"just right\": dataset.query('goldilocks_temp == True' ).shape[0],\n",
    "    \"too hot\":    dataset.query('koi_teq         >= 373.2').shape[0],\n",
    "}\n",
    "for key, value in goldilocks_counts['temp'].items():\n",
    "    print( 'Exoplanets that are %-10s: %4d (%5.2f%%)' % ( key, value, 100*value/dataset.shape[0] ) )    "
   ]
  },
  {
   "cell_type": "markdown",
   "metadata": {},
   "source": [
    "Lacking a formal density measurement from the KOI table, the closest proxy is `koi_prad` Planetary Radius (Earth radii). Different possible planet types include:\n",
    "\n",
    "- [Super-Earth](https://en.wikipedia.org/wiki/Super-Earth) below 10$M_e$ with a radius of 0.8-1.25$R_e$ - exactly what we are looking for\n",
    "- Earth Sized [Ocean_planet](https://en.wikipedia.org/wiki/Ocean_planet) would have a much lower density - but could potentually harbour life\n",
    "- [Carbon planet](https://en.wikipedia.org/wiki/Carbon_planet) low density diamonds in the sky - may lack enough oxgyen to have water\n",
    "- Gaseous [Mini-Neptunes](https://en.wikipedia.org/wiki/Mini-Neptune) require a minimum radius of 1.7$R_e$\n",
    "- Small [Sub Earths](https://en.wikipedia.org/wiki/Sub-Earth) under 0.8$R_e$, likely lack the gravity and magnetic fields to sustain a habitable atmosphere\n",
    "\n",
    "[List of potentially habitable exoplanets](https://en.wikipedia.org/wiki/List_of_potentially_habitable_exoplanets) only lists exoplanets in the range of 0.78-1.63$E_r$, which mostly agrees with the 0.8-1.7$E_r$ range suggested above"
   ]
  },
  {
   "cell_type": "code",
   "execution_count": null,
   "metadata": {},
   "outputs": [],
   "source": [
    "dataset['goldilocks_size'] = ((0.8 <= dataset['koi_prad']) & (dataset['koi_prad'] <= 1.7))\n",
    "goldilocks_counts['size'] = {\n",
    "    \"too small\":  dataset.query('koi_prad        <= 0.8' ).shape[0],\n",
    "    \"just right\": dataset.query('goldilocks_size == True').shape[0],\n",
    "    \"too big\":    dataset.query('koi_prad        >= 1.7' ).shape[0],\n",
    "}\n",
    "for key, value in goldilocks_counts['size'].items():\n",
    "    print( 'Exoplanets that are %-10s: %4d (%5.2f%%)' % ( key, value, 100*value/dataset.shape[0] ) )    "
   ]
  },
  {
   "cell_type": "markdown",
   "metadata": {},
   "source": [
    "These limits can then be combined together "
   ]
  },
  {
   "cell_type": "code",
   "execution_count": null,
   "metadata": {},
   "outputs": [],
   "source": [
    "dataset['goldilocks'] = ((dataset['goldilocks_temp'] == True) & (dataset['goldilocks_size'] == True))\n",
    "goldilocks_counts['combined'] = {\n",
    "    \"just right\": dataset.query('goldilocks==True').shape[0]\n",
    "}\n",
    "\n",
    "for key in goldilocks_counts.keys():\n",
    "    value = goldilocks_counts[key]['just right']\n",
    "    print( 'Exoplanets that are \"just right\" %-10s: %4d (%5.2f%%)' % ( key, value, 100*value/dataset.shape[0] ) )    "
   ]
  },
  {
   "cell_type": "code",
   "execution_count": null,
   "metadata": {},
   "outputs": [],
   "source": [
    "sns.set(rc={'figure.figsize':(20,10)})\n",
    "sns.scatterplot(\n",
    "    data=dataset,        \n",
    "    x=\"koi_teq\",\n",
    "    y=\"koi_prad\",\n",
    "    size=\"koi_prad\", sizes=(20,400),    \n",
    "    hue=\"goldilocks_temp\", palette=\"RdBu\",\n",
    ")\n",
    "plt.title('Confirmed Exoplanets in the Goldilocks Temperature')\n",
    "plt.xlabel('Temperature (Kelvin)')\n",
    "plt.ylabel('Radius (Earth Radii)')\n",
    "display()"
   ]
  },
  {
   "cell_type": "code",
   "execution_count": null,
   "metadata": {},
   "outputs": [],
   "source": [
    "sns.set(rc={'figure.figsize':(20,10)})\n",
    "sns.scatterplot(\n",
    "    data=dataset.query('goldilocks_temp==True'),        \n",
    "    x=\"koi_teq\",\n",
    "    y=\"koi_prad\",\n",
    "    size=\"koi_prad\", sizes=(20,400),    \n",
    "    hue=\"goldilocks\", palette=\"RdBu\",\n",
    ")\n",
    "plt.title('Confirmed Exoplanets with the Goldilocks Size and Temperature')\n",
    "plt.xlabel('Temperature (Kelvin)')\n",
    "plt.ylabel('Radius (Earth Radii)')\n",
    "display()"
   ]
  },
  {
   "cell_type": "markdown",
   "metadata": {},
   "source": [
    "# Different Types of Goldilocks Exoplanet\n",
    "\n",
    "This is the list of Goldilocks Exoplanets"
   ]
  },
  {
   "cell_type": "code",
   "execution_count": null,
   "metadata": {},
   "outputs": [],
   "source": [
    "with pd.option_context('display.max_rows', None, 'display.max_columns', None):\n",
    "    print(   \"Number of potentually habitable exoplanets: \" + str(dataset.query('goldilocks==True').shape[0]) )\n",
    "    print(   \"Names of potentually habitable exoplanets: \" + \", \".join( dataset.query('goldilocks==True')['kepler_name'].tolist()) )    \n",
    "    display( dataset.query('goldilocks==True') )"
   ]
  },
  {
   "cell_type": "markdown",
   "metadata": {},
   "source": [
    "#### Orbital Distance vs Stellar Mass\n",
    "Plotting the Goldilocks Exoplanets against Stellar Mass and Orbital Distance.\n",
    "\n",
    "There is a strong linear correlation between the Stellar Mass (and by extension Surface Temperature), with the Orbital Radius of the Habitable Zone\n",
    "\n",
    "Within the correlation, there still appears to be 4 distinct clusters, possibly indicating different classes of [Red Dwarfs](https://en.wikipedia.org/wiki/Red_dwarf) and [Main Sequence](https://en.wikipedia.org/wiki/Main_sequence) stars"
   ]
  },
  {
   "cell_type": "code",
   "execution_count": null,
   "metadata": {},
   "outputs": [],
   "source": [
    "df = dataset.query('goldilocks==True')\n",
    "df['KMeans_StarType'] = sklearn.cluster.KMeans(n_clusters=4).fit_predict(df[['koi_sma','koi_smass']])\n",
    "\n",
    "plot = sns.scatterplot(\n",
    "    data=df,        \n",
    "    x=\"koi_sma\",\n",
    "    y=\"koi_smass\",\n",
    "\n",
    "    size=\"koi_prad\", sizes=(20,400),    \n",
    "    hue=\"KMeans_StarType\", palette=\"Blues\",\n",
    "#     hue=\"koi_teq\", palette=\"RdBu_r\",\n",
    ")\n",
    "for line in range(0,df.shape[0]):\n",
    "     plot.text(\n",
    "         df['koi_sma'][line]+0.005, \n",
    "         df['koi_smass'][line], \n",
    "         df['kepler_name'][line], \n",
    "         horizontalalignment='left', \n",
    "         size='medium', \n",
    "         color='black', \n",
    "         # weight='semibold'\n",
    "     )\n",
    "\n",
    "plt.title('Confirmed Goldilocks Exoplanets')\n",
    "plt.xlabel('Semi Major Axis / Orbital Distance (AU)')\n",
    "plt.ylabel('Stellar Mass (solar mass)')\n",
    "display()"
   ]
  },
  {
   "cell_type": "markdown",
   "metadata": {},
   "source": [
    "#### Planetary Radius vs Stellar Metallicity\n",
    "\n",
    "Plotting Planetary Radius against Stellar Metallicity, may provide insight groupings into planet composition, \n",
    "as high-metal stars are more likely to form rocky planets, rather than water/ice worlds or carbon planets."
   ]
  },
  {
   "cell_type": "code",
   "execution_count": null,
   "metadata": {},
   "outputs": [],
   "source": [
    "df = dataset.query('goldilocks==True')\n",
    "df['KMeans_PlanetType'] = sklearn.cluster.KMeans(n_clusters=6).fit_predict(df[['koi_smet','koi_prad']])\n",
    "\n",
    "plot = sns.scatterplot(\n",
    "    data=df,        \n",
    "    x=\"koi_smet\",\n",
    "    y=\"koi_prad\",\n",
    "\n",
    "    size=\"koi_prad\", sizes=(20,400),    \n",
    "    hue=\"KMeans_PlanetType\", palette=\"Accent\",\n",
    ")\n",
    "for line in range(0,df.shape[0]):\n",
    "     plot.text(\n",
    "         df['koi_smet'][line]+0.005, \n",
    "         df['koi_prad'][line], \n",
    "         df['kepler_name'][line], \n",
    "         horizontalalignment='left', \n",
    "         size='medium', \n",
    "         color='black', \n",
    "         # weight='semibold'\n",
    "     )\n",
    "\n",
    "plt.title('Confirmed Goldilocks Exoplanets')\n",
    "plt.xlabel('Stellar Metallicity')\n",
    "plt.ylabel('Planetary Radius (Earth radii)')\n",
    "display()"
   ]
  },
  {
   "cell_type": "markdown",
   "metadata": {},
   "source": [
    "#### Starmap - Where are my habitable exoplanets?\n",
    "\n",
    "Location of goldilocks exoplanets in the night sky"
   ]
  },
  {
   "cell_type": "code",
   "execution_count": null,
   "metadata": {},
   "outputs": [],
   "source": [
    "display(\n",
    "    sns.scatterplot(\n",
    "        data=dataset,\n",
    "        x=\"ra\", \n",
    "        y=\"dec\",\n",
    "        sizes=(200,20),\n",
    "        size=\"goldilocks\", \n",
    "        hue=\"goldilocks\", palette=\"hot\",\n",
    "    )\n",
    ")"
   ]
  },
  {
   "cell_type": "code",
   "execution_count": null,
   "metadata": {},
   "outputs": [],
   "source": []
  }
 ],
 "metadata": {
  "kernelspec": {
   "display_name": "Python 3",
   "language": "python",
   "name": "python3"
  },
  "language_info": {
   "codemirror_mode": {
    "name": "ipython",
    "version": 3
   },
   "file_extension": ".py",
   "mimetype": "text/x-python",
   "name": "python",
   "nbconvert_exporter": "python",
   "pygments_lexer": "ipython3",
   "version": "3.7.6"
  }
 },
 "nbformat": 4,
 "nbformat_minor": 4
}

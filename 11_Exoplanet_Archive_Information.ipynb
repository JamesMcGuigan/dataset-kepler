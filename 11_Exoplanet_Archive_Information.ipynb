{
 "cells": [
  {
   "cell_type": "markdown",
   "metadata": {},
   "source": [
    "# Category: Exoplanet Archive Information\n",
    "\n",
    "Exoplanet Archive Information is the master index of which exoplanets have been \"found\", either as CONFIRMED, CANDIDATE, FALSE POSITIVE\n",
    "\n",
    "When an exoplanet gets \"found\" it is also given a human-friendly name"
   ]
  },
  {
   "cell_type": "code",
   "execution_count": 1,
   "metadata": {},
   "outputs": [],
   "source": [
    "# Python imports and settings\n",
    "import numpy  as np\n",
    "import pandas as pd\n",
    "import re\n",
    "import matplotlib.pyplot as plt\n",
    "from pydash import py_ as _\n",
    "from src.dataset_koi import koi, koi_columns, koi_column_types\n",
    "\n",
    "# https://stackoverflow.com/questions/11707586/how-do-i-expand-the-output-display-to-see-more-columns-of-a-pandas-dataframe\n",
    "pd.set_option('display.max_columns', None)  \n",
    "pd.set_option('display.expand_frame_repr', False)\n",
    "pd.set_option('max_colwidth', -1)\n",
    "pd.set_option('display.max_rows', 8)  # 8 is required for .describe()\n",
    "\n",
    "%load_ext autoreload\n",
    "%autoreload 2"
   ]
  },
  {
   "cell_type": "markdown",
   "metadata": {},
   "source": [
    "#### Load Dataset"
   ]
  },
  {
   "cell_type": "code",
   "execution_count": 2,
   "metadata": {},
   "outputs": [
    {
     "data": {
      "text/html": [
       "<div>\n",
       "<style scoped>\n",
       "    .dataframe tbody tr th:only-of-type {\n",
       "        vertical-align: middle;\n",
       "    }\n",
       "\n",
       "    .dataframe tbody tr th {\n",
       "        vertical-align: top;\n",
       "    }\n",
       "\n",
       "    .dataframe thead th {\n",
       "        text-align: right;\n",
       "    }\n",
       "</style>\n",
       "<table border=\"1\" class=\"dataframe\">\n",
       "  <thead>\n",
       "    <tr style=\"text-align: right;\">\n",
       "      <th></th>\n",
       "      <th>kepid</th>\n",
       "      <th>kepoi_star</th>\n",
       "      <th>kepoi_name</th>\n",
       "      <th>kepler_name</th>\n",
       "      <th>koi_disposition</th>\n",
       "    </tr>\n",
       "    <tr>\n",
       "      <th>kepoi_name</th>\n",
       "      <th></th>\n",
       "      <th></th>\n",
       "      <th></th>\n",
       "      <th></th>\n",
       "      <th></th>\n",
       "    </tr>\n",
       "  </thead>\n",
       "  <tbody>\n",
       "    <tr>\n",
       "      <td>K00752.01</td>\n",
       "      <td>10797460</td>\n",
       "      <td>K00752</td>\n",
       "      <td>K00752.01</td>\n",
       "      <td>Kepler-227 b</td>\n",
       "      <td>CONFIRMED</td>\n",
       "    </tr>\n",
       "    <tr>\n",
       "      <td>K00752.02</td>\n",
       "      <td>10797460</td>\n",
       "      <td>K00752</td>\n",
       "      <td>K00752.02</td>\n",
       "      <td>Kepler-227 c</td>\n",
       "      <td>CONFIRMED</td>\n",
       "    </tr>\n",
       "    <tr>\n",
       "      <td>K00753.01</td>\n",
       "      <td>10811496</td>\n",
       "      <td>K00753</td>\n",
       "      <td>K00753.01</td>\n",
       "      <td>NaN</td>\n",
       "      <td>CANDIDATE</td>\n",
       "    </tr>\n",
       "    <tr>\n",
       "      <td>K00754.01</td>\n",
       "      <td>10848459</td>\n",
       "      <td>K00754</td>\n",
       "      <td>K00754.01</td>\n",
       "      <td>NaN</td>\n",
       "      <td>FALSE POSITIVE</td>\n",
       "    </tr>\n",
       "    <tr>\n",
       "      <td>...</td>\n",
       "      <td>...</td>\n",
       "      <td>...</td>\n",
       "      <td>...</td>\n",
       "      <td>...</td>\n",
       "      <td>...</td>\n",
       "    </tr>\n",
       "    <tr>\n",
       "      <td>K07986.01</td>\n",
       "      <td>10128825</td>\n",
       "      <td>K07986</td>\n",
       "      <td>K07986.01</td>\n",
       "      <td>NaN</td>\n",
       "      <td>CANDIDATE</td>\n",
       "    </tr>\n",
       "    <tr>\n",
       "      <td>K07987.01</td>\n",
       "      <td>10147276</td>\n",
       "      <td>K07987</td>\n",
       "      <td>K07987.01</td>\n",
       "      <td>NaN</td>\n",
       "      <td>FALSE POSITIVE</td>\n",
       "    </tr>\n",
       "    <tr>\n",
       "      <td>K07988.01</td>\n",
       "      <td>10155286</td>\n",
       "      <td>K07988</td>\n",
       "      <td>K07988.01</td>\n",
       "      <td>NaN</td>\n",
       "      <td>CANDIDATE</td>\n",
       "    </tr>\n",
       "    <tr>\n",
       "      <td>K07989.01</td>\n",
       "      <td>10156110</td>\n",
       "      <td>K07989</td>\n",
       "      <td>K07989.01</td>\n",
       "      <td>NaN</td>\n",
       "      <td>FALSE POSITIVE</td>\n",
       "    </tr>\n",
       "  </tbody>\n",
       "</table>\n",
       "<p>9564 rows × 5 columns</p>\n",
       "</div>"
      ],
      "text/plain": [
       "               kepid kepoi_star kepoi_name   kepler_name koi_disposition\n",
       "kepoi_name                                                              \n",
       "K00752.01   10797460  K00752     K00752.01  Kepler-227 b  CONFIRMED     \n",
       "K00752.02   10797460  K00752     K00752.02  Kepler-227 c  CONFIRMED     \n",
       "K00753.01   10811496  K00753     K00753.01  NaN           CANDIDATE     \n",
       "K00754.01   10848459  K00754     K00754.01  NaN           FALSE POSITIVE\n",
       "...              ...     ...           ...  ...                 ...     \n",
       "K07986.01   10128825  K07986     K07986.01  NaN           CANDIDATE     \n",
       "K07987.01   10147276  K07987     K07987.01  NaN           FALSE POSITIVE\n",
       "K07988.01   10155286  K07988     K07988.01  NaN           CANDIDATE     \n",
       "K07989.01   10156110  K07989     K07989.01  NaN           FALSE POSITIVE\n",
       "\n",
       "[9564 rows x 5 columns]"
      ]
     },
     "execution_count": 2,
     "metadata": {},
     "output_type": "execute_result"
    }
   ],
   "source": [
    "dataset = pd.DataFrame.join( koi['id'], koi['archive'] ); \n",
    "dataset"
   ]
  },
  {
   "cell_type": "code",
   "execution_count": 3,
   "metadata": {},
   "outputs": [],
   "source": [
    "# Unused\n",
    "confirmed_kepoi_star_names = dataset.query('koi_disposition == \"CONFIRMED\"')['kepoi_star'].tolist()\n",
    "confirmed_kepoi_systems    = dataset[ dataset['kepoi_star'].isin(confirmed_kepoi_star_names) ]"
   ]
  },
  {
   "cell_type": "markdown",
   "metadata": {},
   "source": [
    "## Basic Statistics"
   ]
  },
  {
   "cell_type": "markdown",
   "metadata": {},
   "source": [
    "#### Object Counts"
   ]
  },
  {
   "cell_type": "code",
   "execution_count": 4,
   "metadata": {},
   "outputs": [
    {
     "data": {
      "text/plain": [
       "Number of KOIs             9564\n",
       "Number of Solar Systems    8214\n",
       "Number of Named Planets    2305\n",
       "dtype: int64"
      ]
     },
     "execution_count": 4,
     "metadata": {},
     "output_type": "execute_result"
    }
   ],
   "source": [
    "pd.Series({\n",
    "    \"Number of KOIs\":                 dataset['kepoi_name'].dropna().unique().size,\n",
    "    \"Number of Solar Systems\":        dataset['kepoi_star'].dropna().unique().size,\n",
    "    \"Number of Named Planets\":        dataset['kepler_name'].dropna().unique().size,\n",
    "})"
   ]
  },
  {
   "cell_type": "markdown",
   "metadata": {},
   "source": [
    "#### KOI Dispositions - CANDIDATE / CONFIRMED / FALSE POSITIVE"
   ]
  },
  {
   "cell_type": "code",
   "execution_count": 5,
   "metadata": {},
   "outputs": [
    {
     "data": {
      "text/html": [
       "<div>\n",
       "<style scoped>\n",
       "    .dataframe tbody tr th:only-of-type {\n",
       "        vertical-align: middle;\n",
       "    }\n",
       "\n",
       "    .dataframe tbody tr th {\n",
       "        vertical-align: top;\n",
       "    }\n",
       "\n",
       "    .dataframe thead th {\n",
       "        text-align: right;\n",
       "    }\n",
       "</style>\n",
       "<table border=\"1\" class=\"dataframe\">\n",
       "  <thead>\n",
       "    <tr style=\"text-align: right;\">\n",
       "      <th></th>\n",
       "      <th>count</th>\n",
       "      <th>percentage</th>\n",
       "    </tr>\n",
       "  </thead>\n",
       "  <tbody>\n",
       "    <tr>\n",
       "      <td>CANDIDATE</td>\n",
       "      <td>2420.0</td>\n",
       "      <td>25.3</td>\n",
       "    </tr>\n",
       "    <tr>\n",
       "      <td>CONFIRMED</td>\n",
       "      <td>2303.0</td>\n",
       "      <td>24.1</td>\n",
       "    </tr>\n",
       "    <tr>\n",
       "      <td>FALSE POSITIVE</td>\n",
       "      <td>4841.0</td>\n",
       "      <td>50.6</td>\n",
       "    </tr>\n",
       "  </tbody>\n",
       "</table>\n",
       "</div>"
      ],
      "text/plain": [
       "                 count  percentage\n",
       "CANDIDATE       2420.0  25.3      \n",
       "CONFIRMED       2303.0  24.1      \n",
       "FALSE POSITIVE  4841.0  50.6      "
      ]
     },
     "execution_count": 5,
     "metadata": {},
     "output_type": "execute_result"
    }
   ],
   "source": [
    "koi_disposition_counts = (\n",
    "    pd.DataFrame(\n",
    "        dataset\n",
    "            .groupby('koi_disposition')\n",
    "            .size()\n",
    "            .map(lambda count: {\n",
    "                \"count\":      count, \n",
    "                \"percentage\": round(count/dataset.shape[0] * 100, 1)\n",
    "            })\n",
    "            .to_dict()\n",
    "    ).transpose()\n",
    ")\n",
    "koi_disposition_counts"
   ]
  },
  {
   "cell_type": "code",
   "execution_count": 6,
   "metadata": {},
   "outputs": [
    {
     "data": {
      "image/png": "[encoded data removed]",
      "text/plain": [
       "<Figure size 432x288 with 1 Axes>"
      ]
     },
     "metadata": {},
     "output_type": "display_data"
    },
    {
     "data": {
      "text/plain": [
       "CANDIDATE         2420.0\n",
       "CONFIRMED         2303.0\n",
       "FALSE POSITIVE    4841.0\n",
       "Name: count, dtype: float64"
      ]
     },
     "execution_count": 6,
     "metadata": {},
     "output_type": "execute_result"
    }
   ],
   "source": [
    "def pie_label(pct, allvals):\n",
    "    absolute = int(pct/100.*np.sum(allvals))\n",
    "    return \"{:d}\\n({:.1f}%)\".format(absolute, pct)    \n",
    "\n",
    "plt.pie(\n",
    "    koi_disposition_counts['count'], \n",
    "    labels=koi_disposition_counts.index,     \n",
    "    explode=(0,0.1,0,), \n",
    "    #     autopct='%1.1f%%',\n",
    "    autopct=lambda pct: pie_label(pct, koi_disposition_counts['count']),    \n",
    "    shadow=True, \n",
    ")\n",
    "plt.title(\"KOI Dispositions\")\n",
    "plt.show()\n",
    "\n",
    "koi_disposition_counts['count']"
   ]
  },
  {
   "cell_type": "markdown",
   "metadata": {},
   "source": [
    "#### Average Number of KOIs per System"
   ]
  },
  {
   "cell_type": "code",
   "execution_count": 7,
   "metadata": {},
   "outputs": [
    {
     "data": {
      "text/html": [
       "<div>\n",
       "<style scoped>\n",
       "    .dataframe tbody tr th:only-of-type {\n",
       "        vertical-align: middle;\n",
       "    }\n",
       "\n",
       "    .dataframe tbody tr th {\n",
       "        vertical-align: top;\n",
       "    }\n",
       "\n",
       "    .dataframe thead th {\n",
       "        text-align: right;\n",
       "    }\n",
       "</style>\n",
       "<table border=\"1\" class=\"dataframe\">\n",
       "  <thead>\n",
       "    <tr style=\"text-align: right;\">\n",
       "      <th></th>\n",
       "      <th>min</th>\n",
       "      <th>median</th>\n",
       "      <th>mean</th>\n",
       "      <th>max</th>\n",
       "    </tr>\n",
       "    <tr>\n",
       "      <th>disposition</th>\n",
       "      <th></th>\n",
       "      <th></th>\n",
       "      <th></th>\n",
       "      <th></th>\n",
       "    </tr>\n",
       "  </thead>\n",
       "  <tbody>\n",
       "    <tr>\n",
       "      <td>CONFIRMED</td>\n",
       "      <td>1.0</td>\n",
       "      <td>1.0</td>\n",
       "      <td>1.41</td>\n",
       "      <td>7.0</td>\n",
       "    </tr>\n",
       "    <tr>\n",
       "      <td>CANDIDATE</td>\n",
       "      <td>1.0</td>\n",
       "      <td>1.0</td>\n",
       "      <td>1.10</td>\n",
       "      <td>4.0</td>\n",
       "    </tr>\n",
       "    <tr>\n",
       "      <td>FALSE POSITIVE</td>\n",
       "      <td>1.0</td>\n",
       "      <td>1.0</td>\n",
       "      <td>1.03</td>\n",
       "      <td>5.0</td>\n",
       "    </tr>\n",
       "  </tbody>\n",
       "</table>\n",
       "</div>"
      ],
      "text/plain": [
       "                min  median  mean  max\n",
       "disposition                           \n",
       "CONFIRMED       1.0  1.0     1.41  7.0\n",
       "CANDIDATE       1.0  1.0     1.10  4.0\n",
       "FALSE POSITIVE  1.0  1.0     1.03  5.0"
      ]
     },
     "execution_count": 7,
     "metadata": {},
     "output_type": "execute_result"
    }
   ],
   "source": [
    "kois_per_system = pd.DataFrame(\n",
    "    dataset.groupby('koi_disposition', sort=False)\n",
    "        .apply(lambda group: (\n",
    "            group.groupby('kepoi_star')\n",
    "                .size()\n",
    "                .where(lambda size:  size > 0).dropna()\n",
    "                .pipe(lambda star: { \n",
    "                    \"disposition\": group.name,\n",
    "                    \"min\":  star.min(),\n",
    "                    \"median\": round(star.median(),2),                                        \n",
    "                    \"mean\": round(star.mean(),2),\n",
    "                    \"max\":  star.max(),\n",
    "                })\n",
    "        ))\n",
    "        .tolist(),\n",
    ")\n",
    "kois_per_system.set_index('disposition', inplace=True)\n",
    "kois_per_system"
   ]
  },
  {
   "cell_type": "markdown",
   "metadata": {},
   "source": [
    "## Question: Are All Named Planets Confirmed\n",
    "\n",
    "Answer: there are two named false positives: Kepler-469b + Kepler-503b"
   ]
  },
  {
   "cell_type": "code",
   "execution_count": 8,
   "metadata": {},
   "outputs": [
    {
     "data": {
      "text/plain": [
       "koi_disposition\n",
       "CANDIDATE         0   \n",
       "CONFIRMED         2303\n",
       "FALSE POSITIVE    2   \n",
       "dtype: int64"
      ]
     },
     "execution_count": 8,
     "metadata": {},
     "output_type": "execute_result"
    }
   ],
   "source": [
    "dataset[ dataset['kepler_name'].notnull() ].groupby('koi_disposition').size()"
   ]
  },
  {
   "cell_type": "markdown",
   "metadata": {},
   "source": [
    "Lets have a look at the 2 false positives"
   ]
  },
  {
   "cell_type": "code",
   "execution_count": 9,
   "metadata": {},
   "outputs": [
    {
     "data": {
      "text/html": [
       "<div>\n",
       "<style scoped>\n",
       "    .dataframe tbody tr th:only-of-type {\n",
       "        vertical-align: middle;\n",
       "    }\n",
       "\n",
       "    .dataframe tbody tr th {\n",
       "        vertical-align: top;\n",
       "    }\n",
       "\n",
       "    .dataframe thead th {\n",
       "        text-align: right;\n",
       "    }\n",
       "</style>\n",
       "<table border=\"1\" class=\"dataframe\">\n",
       "  <thead>\n",
       "    <tr style=\"text-align: right;\">\n",
       "      <th></th>\n",
       "      <th>kepid</th>\n",
       "      <th>kepoi_star</th>\n",
       "      <th>kepoi_name</th>\n",
       "      <th>kepler_name</th>\n",
       "      <th>koi_disposition</th>\n",
       "    </tr>\n",
       "    <tr>\n",
       "      <th>kepoi_name</th>\n",
       "      <th></th>\n",
       "      <th></th>\n",
       "      <th></th>\n",
       "      <th></th>\n",
       "      <th></th>\n",
       "    </tr>\n",
       "  </thead>\n",
       "  <tbody>\n",
       "    <tr>\n",
       "      <td>K00126.01</td>\n",
       "      <td>5897826</td>\n",
       "      <td>K00126</td>\n",
       "      <td>K00126.01</td>\n",
       "      <td>Kepler-469 b</td>\n",
       "      <td>FALSE POSITIVE</td>\n",
       "    </tr>\n",
       "    <tr>\n",
       "      <td>K00242.01</td>\n",
       "      <td>3642741</td>\n",
       "      <td>K00242</td>\n",
       "      <td>K00242.01</td>\n",
       "      <td>Kepler-503 b</td>\n",
       "      <td>FALSE POSITIVE</td>\n",
       "    </tr>\n",
       "  </tbody>\n",
       "</table>\n",
       "</div>"
      ],
      "text/plain": [
       "              kepid kepoi_star kepoi_name   kepler_name koi_disposition\n",
       "kepoi_name                                                             \n",
       "K00126.01   5897826  K00126     K00126.01  Kepler-469 b  FALSE POSITIVE\n",
       "K00242.01   3642741  K00242     K00242.01  Kepler-503 b  FALSE POSITIVE"
      ]
     },
     "execution_count": 9,
     "metadata": {},
     "output_type": "execute_result"
    }
   ],
   "source": [
    "dataset[ \n",
    "      (dataset['kepler_name'].notnull()) \n",
    "    & (dataset['koi_disposition'] == 'FALSE POSITIVE') \n",
    "]"
   ]
  },
  {
   "cell_type": "markdown",
   "metadata": {},
   "source": [
    "Google Fu has a little more information on these named False Positives\n",
    "\n",
    "Kepler-469 b: https://twitter.com/exohugh/status/1169262460504875008 \n",
    "<blockquote>\n",
    "Twitter: Hugh Osborn @exohugh - Sep 4, 2019\n",
    "    \n",
    "He [Alexandre Santerne] also kills Kepler-469b which is a validated Kepler planet yet is clearly a binary fold in the wrong period. #PlatoESP\n",
    "</blockquote>\n",
    "\n",
    "Kepler-503 b: https://arxiv.org/abs/1805.08820\n",
    "<blockquote>\n",
    "arxiv: Kepler-503b: An Object at the Hydrogen Burning Mass Limit Orbiting a Subgiant Star\n",
    "</blockquote>\n",
    "\n",
    "\n",
    "\n"
   ]
  },
  {
   "cell_type": "markdown",
   "metadata": {},
   "source": [
    "## Question: Confirmed Planets Named \n",
    "\n",
    "Answer: All confirmed planets have been named"
   ]
  },
  {
   "cell_type": "code",
   "execution_count": 10,
   "metadata": {},
   "outputs": [
    {
     "data": {
      "text/plain": [
       "0"
      ]
     },
     "execution_count": 10,
     "metadata": {},
     "output_type": "execute_result"
    }
   ],
   "source": [
    "dataset[ \n",
    "      (dataset['koi_disposition'] == 'CONFIRMED')\n",
    "    & ( (dataset['kepler_name'] == '') | (dataset['kepler_name'].isnull()) )\n",
    "].shape[0]"
   ]
  }
 ],
 "metadata": {
  "kernelspec": {
   "display_name": "Python 3",
   "language": "python",
   "name": "python3"
  },
  "language_info": {
   "codemirror_mode": {
    "name": "ipython",
    "version": 3
   },
   "file_extension": ".py",
   "mimetype": "text/x-python",
   "name": "python",
   "nbconvert_exporter": "python",
   "pygments_lexer": "ipython3",
   "version": "3.7.6"
  }
 },
 "nbformat": 4,
 "nbformat_minor": 4
}
